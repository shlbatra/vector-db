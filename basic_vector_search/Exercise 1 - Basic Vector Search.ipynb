{
 "cells": [
  {
   "cell_type": "markdown",
   "id": "24cbe1ac",
   "metadata": {},
   "source": [
    "# Basic Vector Search from Scratch\n",
    "\n",
    "For this exercise we will implement basic vector search\n",
    "from scratch with just numpy.<br/>\n",
    "This will give us a feel\n",
    "for what's happening under the hood in vector databases."
   ]
  },
  {
   "cell_type": "code",
   "execution_count": 1,
   "id": "25b3a7a8-c5d0-4366-8c9c-657cb00124d2",
   "metadata": {},
   "outputs": [],
   "source": [
    "# !pip install numpy pytest [This is preinstalled for you in the workspace]"
   ]
  },
  {
   "cell_type": "markdown",
   "id": "68a86f4f",
   "metadata": {},
   "source": [
    "## Euclidean distance\n",
    "\n",
    "There are many ways to measure the distance between two vectors.\n",
    "Let's write a function that computes the `Euclidean distance` \n",
    "between vectors. \n",
    "\n",
    "This function should take as input two vectors and return\n",
    "the euclidean distance between them.\n",
    "\n",
    "For more details you can read this [kaggle page](https://www.kaggle.com/code/paulrohan2020/euclidean-distance-and-normalizing-a-vector)\n"
   ]
  },
  {
   "cell_type": "code",
   "execution_count": 1,
   "id": "88be0502",
   "metadata": {},
   "outputs": [],
   "source": [
    "import numpy as np"
   ]
  },
  {
   "cell_type": "code",
   "execution_count": 2,
   "id": "c731f8e8",
   "metadata": {},
   "outputs": [],
   "source": [
    "def euclidean_distance(v1: np.ndarray, v2: np.ndarray) -> float:\n",
    "    \"\"\"\n",
    "    Compute the Euclidean distance between two vectors.\n",
    "\n",
    "    Parameters\n",
    "    ----------\n",
    "    v1 : np.ndarray\n",
    "        First vector.\n",
    "    v2 : np.ndarray\n",
    "        Second vector.\n",
    "\n",
    "    Returns\n",
    "    -------\n",
    "    float\n",
    "        Euclidean distance between `v1` and `v2`.\n",
    "    \"\"\"\n",
    "    distance = np.linalg.norm(v1 - v2)\n",
    "    \n",
    "    return distance"
   ]
  },
  {
   "cell_type": "markdown",
   "id": "cc6760a2",
   "metadata": {},
   "source": [
    "## KNN search\n",
    "\n",
    "Using the distance function you just wrote, write a function that \n",
    "finds the k-nearest neighbors of a query vector.\n",
    "\n",
    "This function should take as input a query vector, a 2d array of database vectors,\n",
    "and an integer k the number of nearest neighbors to return. And it should return \n",
    "the vectors that are the k-nearest neighbors of the query vector.\n"
   ]
  },
  {
   "cell_type": "code",
   "execution_count": 3,
   "id": "68124b99",
   "metadata": {},
   "outputs": [],
   "source": [
    "def find_nearest_neighbors(query: np.ndarray,\n",
    "                           vectors: np.ndarray,\n",
    "                           k: int = 1) -> np.ndarray:\n",
    "    \"\"\"\n",
    "    Find k-nearest neighbors of a query vector.\n",
    "\n",
    "    Parameters\n",
    "    ----------\n",
    "    query : np.ndarray\n",
    "        Query vector.\n",
    "    vectors : np.ndarray\n",
    "        Vectors to search.\n",
    "    k : int, optional\n",
    "        Number of nearest neighbors to return, by default 1.\n",
    "\n",
    "    Returns\n",
    "    -------\n",
    "    np.ndarray\n",
    "        The `k` nearest neighbors of `query` in `vectors`.\n",
    "    \"\"\"\n",
    "    distances = []\n",
    "    \n",
    "    # Compute the distance between the query vector and each vector in the database\n",
    "    for i, db_vector in enumerate(vectors):\n",
    "        distance = euclidean_distance(query_, db_vector)\n",
    "        distances.append((distance, i))\n",
    "    \n",
    "    # Sort distances\n",
    "    distances.sort(key=lambda x: x[0])\n",
    "    \n",
    "    # Select the k smallest distances\n",
    "    nearest_neighbors = distances[:k]\n",
    "    \n",
    "    # Extract the distances and indices\n",
    "    nearest_indices = [dist[1] for dist in nearest_neighbors]\n",
    "    \n",
    "    return vectors[nearest_indices]\n",
    "        "
   ]
  },
  {
   "cell_type": "code",
   "execution_count": 4,
   "id": "31203a2b",
   "metadata": {},
   "outputs": [
    {
     "data": {
      "text/plain": [
       "array([[1, 2],\n",
       "       [3, 4],\n",
       "       [5, 6],\n",
       "       [7, 8]])"
      ]
     },
     "execution_count": 4,
     "metadata": {},
     "output_type": "execute_result"
    }
   ],
   "source": [
    "a=np.array([[1,2],[3,4],[5,6],[7,8]])\n",
    "a"
   ]
  },
  {
   "cell_type": "code",
   "execution_count": 5,
   "id": "603408ae",
   "metadata": {},
   "outputs": [
    {
     "data": {
      "text/plain": [
       "array([[3, 4],\n",
       "       [7, 8]])"
      ]
     },
     "execution_count": 5,
     "metadata": {},
     "output_type": "execute_result"
    }
   ],
   "source": [
    "a[[1,3]]"
   ]
  },
  {
   "cell_type": "markdown",
   "id": "5eabd7ba",
   "metadata": {},
   "source": [
    "## Other distance metrics\n",
    "\n",
    "For this problem we'll write a new distance function and modify \n",
    "our nearest neighbors function to accept a distance metric.\n"
   ]
  },
  {
   "cell_type": "markdown",
   "id": "d138be2c",
   "metadata": {},
   "source": [
    "Write a function that computes the [cosine distance](ttps://en.wikipedia.org/wiki/Cosine_similarity) between vectors."
   ]
  },
  {
   "cell_type": "code",
   "execution_count": 6,
   "id": "b91848ed",
   "metadata": {},
   "outputs": [],
   "source": [
    "from typing import Union\n",
    "\n",
    "def cosine_distance(v1: np.ndarray, v2: np.ndarray) -> Union[float, np.ndarray]:\n",
    "    \"\"\"\n",
    "    Compute the cosine distance between two vectors.\n",
    "\n",
    "    Parameters\n",
    "    ----------\n",
    "    v1 : np.ndarray\n",
    "        First vector.\n",
    "    v2 : np.ndarray\n",
    "        Second vector.\n",
    "\n",
    "    Returns\n",
    "    -------\n",
    "    float\n",
    "        Cosine distance between `v1` and `v2`.\n",
    "    \"\"\"\n",
    "    cos_sim = np.dot(v1,v2) / (np.linalg.norm(v1) * np.linalg.norm(v2))    \n",
    "    cos_dist = 1 - cos_sim\n",
    "    return cos_dist"
   ]
  },
  {
   "cell_type": "markdown",
   "id": "c1d1c4d4",
   "metadata": {},
   "source": [
    "**HINT** Please make sure you understand the difference between cosine similarity and cosine distance"
   ]
  },
  {
   "cell_type": "markdown",
   "id": "e2c176d9",
   "metadata": {},
   "source": [
    "Now, rewrite the `find_nearest_neighbors` function to accept a distance metric so you can use either Euclidean or Cosine distance"
   ]
  },
  {
   "cell_type": "code",
   "execution_count": 7,
   "id": "f54ab2f2",
   "metadata": {},
   "outputs": [],
   "source": [
    "def find_nearest_neighbors(query: np.ndarray,\n",
    "                           vectors: np.ndarray,\n",
    "                           k: int = 1,\n",
    "                           distance_metric=\"euclidean\") -> np.ndarray:\n",
    "    \"\"\"\n",
    "    Find k-nearest neighbors of a query vector with a configurable\n",
    "    distance metric.\n",
    "\n",
    "    Parameters\n",
    "    ----------\n",
    "    query : np.ndarray\n",
    "        Query vector.\n",
    "    vectors : np.ndarray\n",
    "        Vectors to search.\n",
    "    k : int, optional\n",
    "        Number of nearest neighbors to return, by default 1.\n",
    "    distance_metric : str, optional\n",
    "        Distance metric to use, by default \"euclidean\".\n",
    "\n",
    "    Returns\n",
    "    -------\n",
    "    np.ndarray\n",
    "        The `k` nearest neighbors of `query` in `vectors`.\n",
    "    \"\"\"\n",
    "    distances = []\n",
    "    \n",
    "    for i, db_vector in enumerate(vectors):\n",
    "        if distance_metric==\"cosine\":\n",
    "            distances.append((cosine_distance(query, db_vector),i))\n",
    "                             \n",
    "        elif distance_metric==\"euclidean\":\n",
    "            distances.append((euclidean_distance(query, db_vector),i))\n",
    "                             \n",
    "        else:\n",
    "            raise exception(\"Invalid distance metric\")\n",
    "        \n",
    "    distances.sort(key = lambda x: x[0])\n",
    "    print(distances)            \n",
    "    distances=distances[:k]\n",
    "    print(distances)               \n",
    "    indices = [dist[1] for dist in distances]\n",
    "                             \n",
    "    return vectors[indices]\n",
    "                             \n",
    "    \n",
    "            \n",
    "    "
   ]
  },
  {
   "cell_type": "markdown",
   "id": "21548bed",
   "metadata": {},
   "source": [
    "## Exploration\n",
    "\n",
    "Now that we have a nearest neighbors function that accepts a distance metric, <br/>\n",
    "let's explore the differences between Euclidean distance and cosine distance.\n",
    "\n",
    "Would you expect same or different answers?"
   ]
  },
  {
   "cell_type": "code",
   "execution_count": 8,
   "id": "1133d29d",
   "metadata": {},
   "outputs": [],
   "source": [
    "# You might find this function useful\n",
    "\n",
    "def generate_vectors(num_vectors: int, num_dim: int,\n",
    "                     normalize: bool = True) -> np.ndarray:\n",
    "    \"\"\"\n",
    "    Generate random embedding vectors.\n",
    "\n",
    "    Parameters\n",
    "    ----------\n",
    "    num_vectors : int\n",
    "        Number of vectors to generate.\n",
    "    num_dim : int\n",
    "        Dimensionality of the vectors.\n",
    "    normalize : bool, optional\n",
    "        Whether to normalize the vectors, by default True.\n",
    "\n",
    "    Returns\n",
    "    -------\n",
    "    np.ndarray\n",
    "        Randomly generated `num_vectors` vectors with `num_dim` dimensions.\n",
    "    \"\"\"\n",
    "    vectors = np.random.rand(num_vectors, num_dim)\n",
    "    if normalize:\n",
    "        vectors /= np.linalg.norm(vectors, axis=1, keepdims=True)\n",
    "    return vectors"
   ]
  },
  {
   "cell_type": "code",
   "execution_count": 9,
   "id": "d958c104",
   "metadata": {},
   "outputs": [
    {
     "data": {
      "text/plain": [
       "array([[0.84209514, 0.539329  ],\n",
       "       [0.15625972, 0.987716  ],\n",
       "       [0.79788485, 0.60280989],\n",
       "       [0.99745465, 0.0713037 ],\n",
       "       [0.87099828, 0.49128607]])"
      ]
     },
     "execution_count": 9,
     "metadata": {},
     "output_type": "execute_result"
    }
   ],
   "source": [
    "vecs = generate_vectors(5, 2)\n",
    "vecs"
   ]
  },
  {
   "cell_type": "code",
   "execution_count": 10,
   "id": "b211f9bb",
   "metadata": {},
   "outputs": [
    {
     "name": "stdout",
     "output_type": "stream",
     "text": [
      "[(np.float64(0.008431994982836866), 3), (np.float64(0.04835478468367571), 4), (np.float64(0.06706752797582705), 0), (np.float64(0.09769130961191952), 2), (np.float64(0.6493923910562678), 1)]\n",
      "[(np.float64(0.008431994982836866), 3)]\n"
     ]
    },
    {
     "data": {
      "text/plain": [
       "array([[0.99745465, 0.0713037 ]])"
      ]
     },
     "execution_count": 10,
     "metadata": {},
     "output_type": "execute_result"
    }
   ],
   "source": [
    "find_nearest_neighbors(query=[0.98,0.20],\n",
    "                           vectors=vecs,\n",
    "                           k =1,\n",
    "                           distance_metric=\"cosine\")"
   ]
  },
  {
   "cell_type": "code",
   "execution_count": null,
   "id": "a7a21214",
   "metadata": {},
   "outputs": [],
   "source": []
  }
 ],
 "metadata": {
  "kernelspec": {
   "display_name": "vector-db-env",
   "language": "python",
   "name": "vector-db-env"
  },
  "language_info": {
   "codemirror_mode": {
    "name": "ipython",
    "version": 3
   },
   "file_extension": ".py",
   "mimetype": "text/x-python",
   "name": "python",
   "nbconvert_exporter": "python",
   "pygments_lexer": "ipython3",
   "version": "3.11.0"
  }
 },
 "nbformat": 4,
 "nbformat_minor": 5
}
