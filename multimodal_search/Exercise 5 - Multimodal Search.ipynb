{
 "cells": [
  {
   "cell_type": "markdown",
   "id": "e8c17377",
   "metadata": {},
   "source": [
    "# Multimodal Search\n",
    "\n",
    "In this final exercise, we will learn how to use vector databases to search through images using natural language. \n",
    "\n",
    "We will be searching through an open source image dataset using an open source model called CLIP.\n",
    "This model is able to encode both images and text into the same embedding space, allowing us to retrieve images that are similar to a user question."
   ]
  },
  {
   "cell_type": "code",
   "execution_count": 1,
   "id": "657c177d",
   "metadata": {},
   "outputs": [],
   "source": [
    "# pip install --quiet datasets gradio lancedb pandas transformers [This has been preinstalled for you]"
   ]
  },
  {
   "cell_type": "markdown",
   "id": "ebfec2b3",
   "metadata": {},
   "source": [
    "## Setup CLIP model\n",
    "\n",
    "First, let's prepare the [CLIP](https://huggingface.co/docs/transformers/model_doc/clip) model to encode the images.\n",
    "We want to setup two things:\n",
    "1. a model to encode the image\n",
    "2. a processor to prepare the image to be encoded\n",
    "\n",
    "Fill in the code below to initialize a pre-trained model and processor."
   ]
  },
  {
   "cell_type": "code",
   "execution_count": 2,
   "id": "f3d25d2d",
   "metadata": {},
   "outputs": [],
   "source": [
    "from transformers import CLIPModel, CLIPProcessor\n",
    "\n",
    "MODEL_ID = \"openai/clip-vit-base-patch32\"\n",
    "\n",
    "device = \"mps\" # For apple silicon else cpu (cuda specific for gpu)\n",
    "\n",
    "model = CLIPModel.from_pretrained(MODEL_ID).to(device)\n",
    "processor = CLIPProcessor.from_pretrained(MODEL_ID)"
   ]
  },
  {
   "cell_type": "markdown",
   "id": "6784f1db",
   "metadata": {},
   "source": [
    "## Setup data model\n",
    "\n",
    "The dataset itself has an image field and an integer label.\n",
    "We'll also need an embedding vector (CLIP produces 512D vectors) field.\n",
    "\n",
    "For this problem, please a field named \"vector\" to the Image class below\n",
    "that is a 512D vector.\n",
    "\n",
    "The image that comes out of the raw dataset is a PIL image. So we'll add\n",
    "some conversion code between PIL and bytes to make it easier for serde."
   ]
  },
  {
   "cell_type": "code",
   "execution_count": 3,
   "id": "027bd8e2",
   "metadata": {},
   "outputs": [],
   "source": [
    "import io\n",
    "\n",
    "from lancedb.pydantic import LanceModel, vector\n",
    "import PIL\n",
    "\n",
    "class Image(LanceModel):\n",
    "    image: bytes\n",
    "    label: int\n",
    "    vector: vector(512)\n",
    "        \n",
    "    def to_pil(self):\n",
    "        return PIL.Image.open(io.BytesIO(self.image))\n",
    "    \n",
    "    @classmethod\n",
    "    def pil_to_bytes(cls, img) -> bytes:\n",
    "        buf = io.BytesIO()\n",
    "        img.save(buf, format=\"PNG\")\n",
    "        return buf.getvalue()"
   ]
  },
  {
   "cell_type": "markdown",
   "id": "44277d19",
   "metadata": {},
   "source": [
    "## Image processing function\n",
    "\n",
    "Next we will implement a function to process batches of data from the dataset.\n",
    "We will be using the `zh-plus/tiny-imagenet` dataset from huggingface datasets.\n",
    "This dataset has an `image` and a `label` column.\n",
    "\n",
    "For this problem, please fill in the code to extract the image embeddings from\n",
    "the image using the CLIP model."
   ]
  },
  {
   "cell_type": "code",
   "execution_count": 4,
   "id": "5c040600",
   "metadata": {},
   "outputs": [],
   "source": [
    "def process_image(batch: dict) -> dict:\n",
    "    image = processor(text=None, images=batch[\"image\"], return_tensors=\"pt\")[\n",
    "        \"pixel_values\"\n",
    "    ].to(device)\n",
    "    \n",
    "    # create the image embedding from the processed image and the model\n",
    "    img_emb = model.get_image_features(image)\n",
    "    \n",
    "    batch[\"vector\"] = img_emb.cpu()\n",
    "    batch[\"image_bytes\"] = [Image.pil_to_bytes(img) for img in batch[\"image\"]]\n",
    "    return batch"
   ]
  },
  {
   "cell_type": "markdown",
   "id": "839ed9f2",
   "metadata": {},
   "source": [
    "## Table creation\n",
    "\n",
    "Please create a LanceDB table called `image_search` to store the image, label, and vector."
   ]
  },
  {
   "cell_type": "code",
   "execution_count": 5,
   "id": "e64a6057",
   "metadata": {},
   "outputs": [],
   "source": [
    "import lancedb\n",
    "TABLE_NAME = \"image_search\"\n",
    "db = lancedb.connect(\"~/.lancedb\")\n",
    "db.drop_table(TABLE_NAME, ignore_missing=True)\n",
    "table = db.create_table(TABLE_NAME, schema=Image.to_arrow_schema())"
   ]
  },
  {
   "cell_type": "markdown",
   "id": "e0c0cc14",
   "metadata": {},
   "source": [
    "## Adding data\n",
    "\n",
    "Now we're ready to process the images and generate embeddings.\n",
    "Please write a function called `datagen` that calls `process_image` on each image in the validation set (10K images) and return a list of Image instances.\n",
    "\n",
    "**HINT**\n",
    "1. You may find it faster to use the [dataset.map](https://huggingface.co/docs/datasets/process#map) function.\n",
    "2. You'll want to store the `image_bytes` field that is returned by `process_image`."
   ]
  },
  {
   "cell_type": "code",
   "execution_count": 6,
   "id": "4f40c825",
   "metadata": {},
   "outputs": [],
   "source": [
    "from datasets import load_dataset\n",
    "\n",
    "def datagen() -> list[Image]:\n",
    "    dataset = load_dataset(\"zh-plus/tiny-imagenet\")['valid']\n",
    "    batches = dataset.map(process_image, batched=True, batch_size=32)\n",
    "    \n",
    "    # return Image instances\n",
    "    return [Image(image=b[\"image_bytes\"], label=b[\"label\"], vector=b[\"vector\"]) for b in batches]"
   ]
  },
  {
   "cell_type": "markdown",
   "id": "2f2fc633",
   "metadata": {},
   "source": [
    "Now call the function you just wrote and add the generated instances to the LanceDB table.  The following process can take up to 60 minutes to complete."
   ]
  },
  {
   "cell_type": "code",
   "execution_count": 7,
   "id": "4b8a5c2e",
   "metadata": {
    "scrolled": true
   },
   "outputs": [
    {
     "name": "stderr",
     "output_type": "stream",
     "text": [
      "/Users/shlba/Desktop/Docs/Study/code/vector-db/vector-db-env/.venv/lib/python3.11/site-packages/dill/_dill.py:414: PicklingWarning: Cannot locate reference to <class '__main__.Image'>.\n",
      "  StockPickler.save(self, obj, save_persistent_id)\n",
      "/Users/shlba/Desktop/Docs/Study/code/vector-db/vector-db-env/.venv/lib/python3.11/site-packages/dill/_dill.py:414: PicklingWarning: Cannot pickle <class '__main__.Image'>: __main__.Image has recursive self-references that trigger a RecursionError.\n",
      "  StockPickler.save(self, obj, save_persistent_id)\n",
      "Parameter 'function'=<function process_image at 0x17dacfd80> of the transform datasets.arrow_dataset.Dataset._map_single couldn't be hashed properly, a random hash was used instead. Make sure your transforms and parameters are serializable with pickle or dill for the dataset fingerprinting and caching to work. If you reuse this transform, the caching mechanism will consider it to be different from the previous calls and recompute everything. This warning is only showed once. Subsequent hashing failures won't be showed.\n"
     ]
    },
    {
     "data": {
      "application/vnd.jupyter.widget-view+json": {
       "model_id": "289924ad5cac413a9bc62e8ce1fef793",
       "version_major": 2,
       "version_minor": 0
      },
      "text/plain": [
       "Map:   0%|          | 0/10000 [00:00<?, ? examples/s]"
      ]
     },
     "metadata": {},
     "output_type": "display_data"
    }
   ],
   "source": [
    "data = datagen()\n"
   ]
  },
  {
   "cell_type": "code",
   "execution_count": 8,
   "id": "5585652a",
   "metadata": {},
   "outputs": [
    {
     "data": {
      "text/plain": [
       "list"
      ]
     },
     "execution_count": 8,
     "metadata": {},
     "output_type": "execute_result"
    }
   ],
   "source": [
    "type(data)"
   ]
  },
  {
   "cell_type": "code",
   "execution_count": 9,
   "id": "ca1bedbf",
   "metadata": {},
   "outputs": [
    {
     "data": {
      "text/plain": [
       "b'\\x89PNG\\r\\n\\x1a\\n\\x00\\x00\\x00\\rIHDR\\x00\\x00\\x00@\\x00\\x00\\x00@\\x08\\x02\\x00\\x00\\x00%\\x0b\\xe6\\x89\\x00\\x00 \\x1eIDATx\\x9c\\x95\\xba\\xd9\\xb2,\\xd9q\\x1d\\xe8\\xee{\\x88!#\\xa7\\x93g\\xbe\\xc3\\xb9S\\xd5\\xad*\\x14\\x00\\x02\\x04A\\x88\\xea\\xa6@\\x9au\\xf7C\\x7f\\x00?\\xa0\\xad\\x9b\\x1f\\xc2\\xff\\x81\\xac\\xcd\\xf8 \\x93I2\\xa3\\x0c\" \\x12(\\x1aH\\x10(\\xa0\\n\\xb7\\xaa\\xeex\\xa6\\x9c3\"\\xf6\\xe8\\xde\\x0fy\\xab\\x00I\\xa4\\xda\\xb8-_2,\\xd2\\xc3\\xa7\\xb5\\xf6\\x8e\\xf4\\x85}\\x8e\\x88H\\x80\\x88H\\x00\\x00\\x00,\\x00@\\x80\\xf0\\xdf.A\\x10\\x84\\x04\"\\x00 \\x19\\x01\\x0c*\\x04\\x00\\x96\\xe4\\xbc\\xb6\\x05\\x00\\x00!\\x00\\x00\\x02 \\x80\\x88 #\\x00H\\x96\\x9c\\x99\\x99H#\\x11\\xd0\\xfe9{\\xfb\\x04\\x00\\xf2\\xbbOa\\xf8\\'\\x17\\xe2\\x7f\\xef\\xcf\\xdb\\xebQX\\xe4\\xad\\x05\\x02\\xd8\\x07\\x03\\xff\\x9d\\xd5\\xb7\\xf7\\x82\\x00x\\x0eD\\x9a\\x00Xrv\\x81\\x10\\x0bS\\x00\"\\x84\\x08\\x88\\xbf\\r\\x00 \\x83\\x000p\\x06`\\xdc/\\xd2{\\xc3\"o\\xfd\\x14FD\\x14\\x04D\\x14\\x11\\x11\\xd1d\\xfee\\x01\\xb0\\x08\\x00\\xb003\\xa3\\x00\\x11\\x11\\x11\\x00|\\x15\\xd5\\xef.A\\x88\\x92\\x10E\\x01\\xd1\\xdeO\\x11H\\x19X\\xc0|\\xf9`\\x04\\x10\\x01\\x11A\\x10\\x91\\xe8\\x9dR\\xa8\\xb5\\x06\\xa5\\xf6\\xf9\\xe6\\x9cEDi\\xf3e\\xd2\\x80\\x99\\x99y\\x7f\\xbfB\\xfd/\\x0b\\xe0\\xddw\\xdf\\xcd9\\xc7\\x18c\\x8c\"\\x82\\x88\\xfb\\x18\\xfe\\x99\\x00\\xd8V\\x96\\x99\\x91\\x85\\x10\\x81\\x052k@\\xad\\xf5x<\\xfe\\xcaN\\x12\\x16\\x00\"B\\x02c\\x94RJkMD\\xcc\\x90sN\\xcc\\xccL\\xa4D$&~\\xfb\\x93\\x94x_t\\xfeg\\x1c\\xfdg\\x02\\xd0\\x92\\x99S\\xe6\\x94sL9g\\x00\\x00z[\\xf0}\\xca\\xff\\xdb\\xc5\\xc6(\\x14FD\\xc9,9kR\\x93\\xf1x6=\\xd8\\xedv\\x9230\\x8b0\\x89\\x90\\xd1\\xd6Z\\xaduJ\\x81\\x009\\xe5\\xc41\\xa4\\x9cR\\xda\\xa7&f\\x06\\x00\\x16\\x8c1\\x86\\x10\\xf6\\xd7\\x11\\x11Q\\xfd\\xcb\\x02\\xc0\\xcc\\x04\\xa0\\x89XkDd\\xe6,,\"J\\xfd\\x13\\x86P\\x80c\\n\\xc1\\x97\\xd6\\x9e\\x9c\\x9c\\xcc\\xa6\\x07\\n\\xd0u}\\xd7u!\\x84\\xbcG*\\xa0\\xd2\\xdaX[\\x96\\xa5\\xb2\\xe6\\xf6v\\xb77\\x1bB\\xe8}\\x881\\x02\\x00\\x11\\t\\x92R\\nQ1\\xbf\\x85-\\x11!\"\\xfc\\x0f\\xe4\\xf1\\xff\\x13@\\xe8;F@D\\x85\"\\n\\x04\\x04Y\\x989\\xef[H\\xde\\xfa\\xfdU\\x05R\\x10Kx8\\x19\\xdf??\\x1b\\x8f\\xc7\\xeb\\xe5\\xea\\xe6\\xfarq;\\x1f\\x0c\\x06\"\\x82\\x00F\\x93R\\xa4\\x15\"0p*\\xcb\\x92\\x88\\x98\\x99\\x88D\\x90\\x00\\x19\\x84\\x88bH\\xa8QkM\\xcc \"\\xcc\\x02\\x80\\x889\\xff\\xd34\\xf4\\xcf\\x06\\x90s&\"\\xd4\\xa4\\x95\\xd2\\x00Q\\xe5\\x98\\xd2\\x1eR_e\\x1d\\xf0K\\xce\\x13(H\\xdf\\xbb{\\xfe\\xe4\\xd1\\xe3\\xaa\\xaa^\\xbe|\\xf9\\xd9g\\x9f\\xa5\\x94\\x0e\\x0f\\x0fSJ{\\xf0(\\xa5\\xbe\\xcc%Hf\\x14\\xd9gW)\\xa5\\x94BD\\x10\\x11\\x91\\xb2,\\x8d1d\\xec\\xbe\\x02\\xcc\\x9c\\xf6\\xe0\\xfe\\xa7*\\xff?\\t\\x80\\x06um\\x8ca\\xe6\\x94R\\xce\\x19\\x11\\xb5\\xd6\\xda\\x1a\"r\\xce\\x95\\xb6\\xf0\\xde\\xc7\\x10\\xa2\\xf3\\xe3f(1i\\x84Gw\\xef\\x96Z}\\xfe\\xe9\\'\\xd7\\x97\\xafO\\x8ef\\xae\\xdb5uI\\xc0(\\x99\\x80\\xf7\\x1f\\x94\\x0c\\x9c$\\'MJ!\\x02s\\x8eq\\xdff\\n\\xc9jS\\x14\\x05\\x00$\\x1f\\xa2\\xf3\"\\xa2\\xb5.\\xac\\xb5\\xc6(\\xa5Dd\\xefIY\\x96UUi\\xads\\xceZ\\xeb}j\\xe0K\\xd6\\xca9\\xe7\\x9c\\xf5W\\xf1\\xb10#(R\\xd6h\"\\xca9[kK[ @\\xf2!8\\xef\\xb6-\\x01^\\x9c\\x9e\\x13K\\xbf\\xddm\\x96\\xab\\xe9pt\\xbb\\\\\\xdc9;\\x8f>Xm\\xf6\\xe8\\'@\\x94}OR&\\xe8\\x9c\\xf718\\xe7B\\x08Y\\xf0+\\x9a\\x0e!\\xec3\\xb8\\xaf\\xcfW\\xbc\\x97\\x19\\x10q\\x8f\\xe9\\x10\\xc2~\\x7f\\xd8\\x97N\\xbe\\\\osO\\x84\\x88Z\\x19R\\x86\\x0c\\x9a\\xcc\\x9cP\\x00\\x91\\x08A\\xa1\\xef\\xfa\\xc2\\xda\\xe0\\xfb\\xd2\\x98\\x10#*J\\xde\\x1d\\x1f\\xce\\x1e\\xdc\\xbb\\x8b\\x9c_]\\xbeA\\xce\\x84\\x02\\x9c\\x8ef\\xa7\\xb7\\x8b\\x05\\x11\\x01\\x08\\x88\\x10\"\\x08 \\xec{GiR}\\xca}\\xdf\\xa7\\x94\\xac)\\x0bmP+\\x11\\xf1>\\x10\\x11\\x12\\x12\\x91&\\xda\\xfb\\xc7\\x08\\x12\\xf3\\xef\\xb6\\x8d1f\\x9f{\\xef\\xfd\\xbeM\\x98y\\xcfWo1\\x00\\x00d\\xb4V*\\x83@N.\\x86\\x1c\"3\\xc7\\x18\\x0bk\\xbb\\xae3\\x83&\\xc7\\xa4\\x01I\\xe9\\x8b\\xb3;\\xd3f\\xb4\\xb8\\xbd\\xde.W\\x87GG\\x8b\\xf5j6=H!j\"\\xa5\\x94 \\xaa=\\x01\\xcb\\x1e\\x96\\x8c\\x92\\xcb\\xd2\\x86T\\x14\\xa1@\\xc4}\"\\xf7d\\xb5\\xdf\\x19H\\x99\\xdf\\x02F\\x04@P2\\x00\\xec\\xb7\\x8e\\xb2,\\xcb\\xb2\\xb4\\xd6*\\xa5nnn\\xf6\\xde\\xbf%\\x13\\xe6}%5(\\xca\\xcc\\x81s\\x16\\x8e)\\xc5\\xfc\\xf6\\xa6\\xba\\xae\\x8d1\\x909\\x87\\xc8!jT\\xcd\\xa0>98$\\xce\\xab\\xf9|\\xd24\\xb5\\xb5k\\x84A]\\xad7\\x1b\\xa5Hk\\xa5\\x942J\\x13\\x11\\x02\\xe4\\x9cSJ)\\xb3-\\n e\\x8cq\\xce\\x85\\x98SJ9\\xc6\\x9c\\xf3p2\\xa1}\\xad\\x11\\x19\\xe4\\xedf\\x0c\\xa2\\xb5\\x06\\xce\\x88h\\xad-\\x8a\\xc2\\x18\\xb3\\xef\\xa5=D\\x7f\\x97s\\xf7\\x90\\xd0eU\\xf5\\xc1\\x07\\xefbJBXT\\xa51F)\\xb5]o\\xfa\\xbe\\x07\\x80\\xe8\\x83d\\xd6\\x85=98\\x9c4\\x83\\xae\\xdd\\xec\\xd6\\x9b\\xfb\\x0f\\x1f,7\\xeb\\xd9\\xf4 8\\xaf\\x95B\"\\x84/\\xcf;D \\x82\\x88\\n0#VUe\\xaa\\xbai\\x1a\\xef}\\xdb\\xb9\\xbe\\xef\\xbd\\xf7)%k-\"\\x82\\x90\\xc8\\xdb\\x93\\xd1\\x9e\\xa0\\xac\\xb5\\xea\\xcb\\xaf\\xde\\xfb\\xbe\\xef\\x7f\\xbbU3\\xef\\x03\\xf8\\x8a\\xd3\\x94R\\x1a\\x14\\n\\n\\x80(M\\xb6,\\xcb\\xba\\xd2Z#b\\xdf\\xb6!\\x84\\xf1h\\x08!im*S\\x9c\\x9d\\x9e\\x14\\xd6\\xde\\xbe\\xd9\\x0c\\x9bZ$[\\xa3\\x94\\xd1\\x9dk\\xebA\\xbd?\\x05 \"\\x11\\x002\\x02\\x18B0Z!\\xe6\\x9cA\\xe9}\\xc3he\\x0bc]\\xf0)\\xa5\\x94\\xf2\\xfe\\xe8)\"\\x02o\\x8f0\\n\\x10\\x11\\x0b[\\x10Q\\x8c\\xb1m\\xdb\\xbe\\xef\\x99\\xf9wz\\xec\\xb7k\\xdf\\xa5\\xdau\\x9b\\x10\\x03K\\xd6\\xa6\\xb0\\x95!C\\x81c\\x0c\\xf1\\xf0|\\xb6]\\xacNFS\\xbf\\xdd*\\x9f\\x8c\\xc0\\xc1\\xb0\\x80\\xdcu\\xfd\\xfa\\xe0dz{{}rv2\\x9f\\xcf+\\xcd\\xb5b \\xb1\\xb6\\xdc[\\x04@\\x10$\"\\x85:+\\xf5\\xfc\\xfa&+CD\\x8a\\x0c\\x91\\xd2\\xa6\\xb4B\\x08\\xd1\\xbb\\x1d\\x13\\x8b$\\x00\\x10\\x00DED\\n1%\\xb6\\xa4\\xb4\\xb5\\xc0\\xc2IRb\\xaduUU\\xce\\xfb/9(\\x0b@\\xe2\\x0c\\x9c\\x01@\\xbb\\xed\\xb2n\\x06h\\x8ab\\xd0Pe_\\xdf^/6\\xeb\\xf1\\xc1\\xd4\\x00\\x9d?>}\\xef\\xe1\\xc3\\xd5\\xeb\\xcb\\xc5g\\x9f\\xbfw\\xff\\xe2h\\x88\\xf3\\xdb\\xd7`S@\\x7fr\\xf7 \\xa7\\xddx(\\x96\\xb4UQ\\xa1\\x10\\x89RJ\\x98z\\x1f2+D\\x1ds\\xec\\xfb~P\\x95m\\xcc\\xd6\\x94\\xa4\\xacw\\x923\\x13\\xaa\\x98\\x99\\x9123)\\xd0ZK\\xe6\\x10\\x02\\x08\\x19c\\xa6\\xf5\\xd0Z\\x1bR\\xf6\\xad\\x83\\x0cUQ\\xc7\\x94\\xe7\\x8buQ\\x979s\\xce\\x99\\x08\\xb4&\\xa5\\x14 3\\xb3\\x1e\\xcd\\xc6\\xa6\\xb0\\xc6\\x18[V\\x11\\xb1\\xb6e_\\x85\\x90\\xbc\\x1d\\x1e\\x8dO\\x0eT\\xad\\xdb~\\x85*4\\xa5T\\xec\\xb5\\xdb\\xccJ\\xad\\x89U\\xea88\\x95ccu\\xa5\\x8c%$\\xc9\\x04\\x98@z\\xe4(\\x12\\x13\\xf7.\\x04\\x1f&\\xc3\\xa6\\xd2\\x1a\\x89R\\x96\\x10=\\xa1\\xd6\\xc6\\x02\\x88@\\x0c\\xa9O\\xd9\\xc7\\x98%\\x033\\xef\\xb7\\xfb\\xb6\\xdbnw\\xdc\\xbb\\xd0:\\x1f\\x05\\xb41\\xca\\xe8J\\r\\x04x\\xdf\\xf8\\xfb7\"$\\x01 \\x00\\xd6\\xe5\\xc9!\\xc7\\xa4\\xd1\"(ril\\x1bc\\xec\\xdaw\\xcc\\xd0\\x8cG\\xa0\\x95\\xcb~\\\\\\x95\\xb3\\xaa\\xaa6\\xed\\xa8\\xebN\\'\\x13R@\\x82\\xd6V\\xa5\\x19\\x8c\\xcb\\xb2.\\nKoY9ep)\\xfb\\x0c.\\xa5\\x9d\\x86\\x95\\x81^\\xe5E\\xef\\xda\\xd8A\\xc6\\x06\\xb4*\\x86\\x8e\\xfb\\xf9\\xe66cL903je\\xb41\\xa2\\x14Zet\\xd3\\x94\\xab\\xed&sTJ\\x93`\\xcc\\x92\\x92\\xdfw\\xbfRh\\xb5V\\x08\\x80\\xbc\\x7fm\\x04R:\\x17\\xb6s>\\xe7hRH}\\xae\\x87M3\\x18\\xcbn\\xb1^m[\\xd7\\x17\\xc4F\\xe3\\xd9\\xc1\\xf8@\\x13\\xf9\\xd0\\xd4\\xc5\\xf9\\xe9\\x0c\\x00\\x94\\xb0%\\x1c\\x18S\\x19[\\xa0\\xda\\xbfYe\\xe6\\xc8\\x1c9\\'\\xc0\\x08\\xecG\\xd5\\x96\\xf3\\xa7W\\xd7\\xdaf\\xaf\\xa8K\\xe4\\x00\\xa4L]\\x96\\xaeD\\x0fhY3\\x08\\x90F\\xd4\\x121\\xc5\\xe4r\\x02\\x0b\\x8b\\xddz\\xdb\\xb7\\xd6Z26q\\x8a\\x90\\x14\\xa2&e5\\x15F\\x13\\x8ad\\x11\\x10\\x14!\\x02}\\xd3\\xb6\\xaem\\x9b\\\\\\x0c\\x98\\xc8\\x03\\x16@\\x16)R\\xcaq5_\\xa03\\x03Cg\\xe3\\xd1\\x84p`\\xf4\\xfd\\x87\\x17w\\x1e\\x9c:\\xd7\\xf9\\xbe\\x97\\x90TF\\x8a\\x012CfD\\x8c\\x9c\\x95\\xb0%\\x11Kh\\xb4\\x1e\\xe8\\\\\\x0cf\\x07\\xe5\\xdc\\xc7]\\x97_/\\xb6\\xbfy}\\xb3X^9\\x01\\x08\\xde\\x1a%\\x00\\t8\\t\\x01\\x14\\xa8\\xacU\\x96\\x88\\xcaAE\\x9df\\x07Q\\x98r\\x889\\n\\x8a)\\xcaa=\\xb0\\x84\\x8a\\x08R\\x8a>\\xe7\\x98\\x81E\\x98\\xf5r\\xdd\\xb2K\\x9a\\xb1PU\\xa5t\\xe8C\\xebz\\x1f\\xdb\\xf1\\xb4r\\x8b\\xb5\\xefq\\x8cpT\\x15\\x07\\ng\\xc3\\xea\\xe9\\xfdS0\\x19\\x82\\xcb\\xb1\\r>$\\x0f\\x94Q\\x01\\x19\\xa5s\\xce\\x00\\x19!\\x93\\x12D\\xb4E1<\\xa8\\x8a\\xe9\\xf4\\xe2`\\xf6\\xab\\xe7o\\xde\\\\\\xaf\\xcbA9\\x99\\x8c\\xd6]\\xdc\\xf6~\\xd1w^r\\x9f\\xf3r\\xd7\\xde\\xae6\\xdb~\\xc7h\\xb5\\xa9\\x93\\xd6u9\\xab\\xcbA\\xab\\xbb\\x10b\\x14\\x01\\xa0Q3\\x9cL\\x0e\\x9a\\xaa\\xc4\\xcc)\\xfa\\xe0\\x1c\\x06\\x05\\xa4\\x98#2j\\x144\\xaa\\x881E\\xe1\\xcaP\\xdb\\xf7>:S\\xe2\\xd4\\x94\\xb0\\xd9\\xd9\\x08\\x87\\xe3\\xfaX\\x9b#k\\x87\\xdeC\\xeeW\\xab\\xdb]lSbEZ,\\xe6\\x08\\x80HZy\\x9f\\x04\\x91\\ra!Ie\\xb4\\x19\\x1aP\\xb3\\x02\\x0e\\x9b\\xc2\\x8f\\xeeM\\xa7G\\xd3S\\x05U\\xbb\\xf3}\\x1f|\\x087\\xab\\x85K\\xf9\\xcdr\\xf1\\xab/\\x9e\\x7f\\xf1\\xfaf\\xb1\\xed\\xfb\\x9c{\\x84\\xb8\\xde\\x98$\\x03U(\\xc4\\x04\\\\\\xd8j6=\\x9e\\xcdf)\\xc4 !\\xe5\\x10\"\\' !\\x83F\\x89\\x88\\x1e\\x99\\x9a!\\xf9\\x14{q\\x85\\xd2>\\xba\\x9c\\xfcQ=\\xa9\\x83G\\xd7\\x1d\\xa09\\x1d\\xd1\\x91\\xc2\\xa9U9\\xbb\\xd5\\xed\\xab\\xd6\\xba\\x84YWU\\xa5+I\\xda\\xb51\\xb8\\x1cb\\xecc\\x00\\x05h@\\x04B\\xf6*EJ\\x05\\xa3\\xaf\\x86\\xc5\\xf1\\xd7\\xde\\xa9\\x0f\\xef\\x83\\x1d\\xf3\\xcf~\\xfd\\x9b_~\\xc2\\xad\\x9b\\x8d&\\x17\\xb6R#\\xfb`2y0\\x9b\\xbey\\xb4[\\xc7\\x1c\\x84z\\xb2[\\xa8\\xb6\\x81\\xd7\\xdb\\xdd\\xd5\\xf5\\xed\\xd5\\xe2\\xb6\\xed=\\x06q[\\x87\\x88\\xae\\x8fm\\x97|\\x10d$U\\x12\\n\\x02h^\\xf5\\xc3\\xe1P\\xdb\\xd8\\xeev\\x1b\\xc7e\\x81\\xd3au6\\x19\\x84\\xf9\\x9bG\\xb3\\xc97\\xceO\\x9e\\x1c\\x0e\\x0f\\ts\\xbb1\\xa5\\xf2\\xe0TaE\\xb1$j} \\x11\\xb2\\x05\\x8a\\xb8>\\xb4!\\xeb\\xa6\\x10\\x10A\\x96\\xaa\\x92\\x02pP\\x0f\\xee\\x9c\\xc1\\xdd\\xf3\\xfa\\xf4>p\\x01=R\\xd5\\x94\\xca \\x87x\\xb3\\x98\\x0e\\x1b\\x8aQ\\x91d\\x11U\\xdb\\xb1@\\x8f\\xe4\\xa0\\xbau\\xb6&=3\\xa3\\x87\\xc7\\xf7\\x99\\xd4\\xa6\\xebn\\x97\\xab\\xe5v\\xf7\\xec\\xf9\\x8b\\xd6{\\x17\\xb2\\x90\\xb6E\\r(]\\xf0\\xce9]\\x8b\\xe2\\xb6\\x93\\x18FM\\xd1\\x0cK\\xf0\\xce\\x8a+\\xb9\\xfb\\xfdw\\x1e_\\xd4\\xc5\\xc3\\xf1\\xe0H\\xa9\"\\x07\\xe2\\x84\\x1a\\xc9\\x96\\t\\x92\\x02\\rB1K\\x0c\\x89\\xb3\\xa4H13\\x90aQ!\\x84\\xc0\\xa9\\xac\\xaa\\xf1tzx~\\x81\\xe7\\x0f\\xe1\\xe4D\\xc0`\\xd7C\\x87PT\\'\\'\\xe7\\xb6r\\xbas\\x10{\\xd7u\\xc6\\xd0aU1\\xc2\\xea\\xfaf\\xe3\\xbc\\x14S\\x8cC\\x8b%e\\xf4\\x90\\x8a\\xb2:\\x1f\\xcf\\x8e\\xa6\\']JO\\x1e?\\xbd\\\\,>{\\xf1\\xfc\\xd5\\xe5\\x9b\\xf5f\\x95\\x85A\\x11\\xa9BW\\x02!\\xf8\\x82\\xa0\\x1e\\xd8\\xca\\xb0DwR\\xda\\xa7\\xc7\\xc3o\\xdd9:\\x018@1\\xd1E\\xdfFH\\xbaR\\x05i-\\n3J\\xc2\\x14\\x99]\\xce\\x89%kHyP\\xd4\\xaa(Z\\xf6HiTO\\x8f\\x0f\\xee\\x98\\xf19\\x14\\x13\\xe02\\xa9B+\\xc2BA\\xd5\\xa3\\xad\\x90rbg\\x95VJ\\x01\"\\xe9b\\xa2\\xed\\xa4\\t7\\xab7W\\x97/\\xc7\\x87OlY%\\x85\\xb9\\xed\\xba\\xde\\x959\\x17\\xe3\\xc9\\xb8\\xa8S\\x94\\xbb\\xa7wON\\xce6]\\xfb\\xe6\\xe6\\xf6\\xe5\\xebW/\\xdf\\xbc^\\xaf\\xd7\\xda\\xa0(\\xa5\\xb0 \\x0bQ\\xf9~l\\xe5\\x1b\\xf7\\x8e\\xfe\\xf0\\xe9\\xc5I\\xcaC\\xef\\x8ds\\xe2=pBMY &\\xd0\\x88\\xc4\\x90}\\x96\\x90\\x94\\x10!E`\\x10\\xd9n6\\x05\\x8c<\\xe4^\"\\xaf{x\\xb3\\\\\\xbb\\x94/\\x97\\xdd\\xdd;G\\x8f\\x1e\\x1f\\x8fN\\xa0\\x1a\\x00/\\xae\\x97\\x9bpu\\x0b\\xbbmm\\xb0\\xb2&C\\x0e\\xbb]59|\\xe7\\xc9\\x07XLw\\xff\\xf8\\xeb\\xcd\\xfc\\xda\\xd4\\xbe\\xac\\x07\\xe3\\xba01o\\xb7\\xeb\\xb6\\xeb\\xb0\\x18PY\\x16J\\x15e=\\xa8\\x87\\xa3\\xd1\\xe4hv\\xf4\\xf0\\xde\\x83]\\xd7j[\\x1a\\x161\\x14K\\x88\\x07\\x85~z~\\xf0\\xdd\\x87\\xe7\\x8f\\'\\xa5Z\\xcc\\xad8\\x12\\x8f\\xc4\\xba\\xb0`l\\xd6JX\\x98\\x1d\\xa7\\x18\\x83\\x08\\x83BB\\xa32g\\xe6\\xfd^\\x00\\x99\\xb9\\xf5a;\\xdf\\xcc;\\x9f\\xbe\\x80X\\x18}\\xe72\\xce}}/4\\xa3\\xd9\\xe6f\\xfef~\\xdbn\\x97\\xa9\\xeb\\xb2\\xef\\x86\\xa3\\x81V6\\x01\\x1e\\xe8\\xe1\\xf9\\xf8\\xee\\x83G\\'\\xcd\\xc1\\x83\\xff\\xf8W\\xffi\\xb9|\\x85kspzg<\\x99*\\xcf;\\x1f\\x13\\xc4\\xe5\\xed\\xda\\x0bFAQ\\xda\\x16\\xd5\\xc0\\x9a\\xe1\\xec\\x98\\x0fD\\x97\\xe3\\xdam\\xbd\\x069\\x1f\\r\\xbfv~\\xf0\\xedGg\\x8f\\'\\x03\\xd3\\xaeJ\\x8a\\xa4#\\xeb\\x84\\x8a@+\\xd2\\x86P%I)\\t\\x92R\\x16\\x81P\\x01%\\x96\\x1cS\\xc00\\x98\\x8e\\xb1*\\xc0\\x8b\\xf7\\xd0v\\xce\\xf7.+,\\xeb\\xe6\\xeeD\\xf2\\xe7\\x97\\xafn\\xdcx<\\x9b\\xdf.n6\\x9b\\xad\\xef;\\xdf\\x12\\xe1\\xd5\\xae5:ZU^\\xbf\\xb8}1\\xe7\\x07w\\x1f\\xdf\\xbdx\\xf2\\xfd?\\t?\\xf9\\xd9O\\xfe\\xe1\\x97\\xbf\\x9c\\xb7\\xf3\\xc9\\xc1\\x99\\x19\\x8cT\\xd5T\\xb6\\x94A\\x15\\x04\\x81\\x8c2\\xa5-*P\\x94\"\\x87\\x14\\xb5\\x1dV\\xde\\xaf\\x0f\\xaa\\xc1{\\x17\\xe7\\x1f\\x9eN\\x1fO\\x9aC\\xca!9\\x8b\\x11L\\x8e\\x821rN\\x1e\\x85\\xac\\x19\\x94\\xa6l)\\x14uQ\\xe8\"\\x86\\xec\\\\H]\\x08\\x86s\\t\\x1d\\xc6\\x9c\\xfbEt\\xcb\\xe8\\x96\\xdemc6Mu\\xaf\\x19\\xdf\\xb3\\xcd\\xa0\\x87\\xd0\\xad\\xbb.\\xef\\xdav\\xe3\\xbae\\nk\\x8eEU\\x87\\x10t\\xe2\\x92\\x91{\\xcf\\x97\\x97\\xb7\\x0b\\xbaZ\\xee\\x9e|0y\\xf2\\xc1\\x03\\x0f\\xfd\\xc7\\x9f~\\xf6\\xec\\xf9\\xaft\\xd1\\x8c\\xa6\\xc7U3\\x15U\\xf8D!r\\x8a D\\x8a\\x8c1\\x05i\\xa5\\x07:\\xa3\\xca\\x17\\xc3\\xe1{\\x87\\xd3;\\x851\\xfd\\x0e\\x0b\\xae\\x07\\xca\\xbb\\x9e\\xb4\"\\xa5\\x84C\\xf2IIPeS6\\x03\\x17R1\\x1d\\x0f\\xca&\\xf8\\xe0\\x16\\xab\\x189\\xe5L\\xa82)\\xd1\\xa4Jk\\xf3\\x80\\x90\\x04\"\\x95\\xa3r|\\xe4\\xb2\\x1aZS\\x1bE\\xc6\\xacQP\\xb2\\x80J\\xaa\\xd8\\xec\\xa2 ja+\\xae\\xa4J\\x97\\xf6\\xf9\\xed\\xcd\\xc7/\\x7f\\xf5\\xf9\\xf2\\xf0\\xc9\\xbbg\\xbf\\xff\\xaf\\xfeu1>\\xfc\\xc9O\\x7fv\\xb3\\xdc\\xf8\\x9c\\xd5fSTc[\\x0e\\x8ajXU6\\xb2dF\\xc1\\x08 \\xba\\\\\\xbdy0\\xa9\\xff\\xf5\\xbd\\xd3wJ}14\\x83a\\xd1\\xfa\\x85\\'\\xa4\\xe9\\xd4\\x8a^|q\\xe5}\\x984\\xe3\\xb6s7\\xeb7\\xa7\\x93\\x87\\xc7\\x0f\\x1f\\xf6\\x89\\xb9\\x1c\\xb4a\\xd3\\x9c<h\\xf3\\x9b\\xca\\xa4\\xb8\\xd9\\xac\\x96\\x8b\\xc1x:(\\x07\\xbb\\x00\\xd2\\xc6$\\xb8\\xd8\\xe6\\xd5\\xa7/ww\\xf5\\x07\\x17\\x83w\\x0f\\xa7\\xfdfYH\\x1c\\x08tX\\xbaM\\x9fu\\x95P\\xb2\\xc4$>JB\\xe8\\xb1\\xae\\xb0n\\xfe\\xeb/~\\xf3b\\xb1\\x99LG\\xf7\\xee]\\xfc\\xef\\xff\\xe7\\xa3\\xbf\\xfc\\xcb\\xbft!,W\\xb7\\xd4\\xeeD\\xd9\\xb2\\x19\\x9a\\xb2f2e3,\\xca\\xc16\\xb4\\xfa\\xc1\\xb0<\\x1fV\\x0f\\x86\\xe5\\x99\\xa5\\x01\\x01\\x18\\xad\\xb3\\n\\x94n\\xd7\\xebG\\x0f\\xdf95\\xa3\\xdd\\xb37*\\x03\\xa0\\n\\xae\\xbdZ\\xddTFC9\\x18j\\xb4\\xc3\\x19\\x00\\xe9f\\xba\\xeb\\xe7]\\x94,\\xe43c\\xcc\\x0c\\x94\\xc1\\xb4\\xbd\\x7f\\xbd\\xd9\\xae;\\xf7\\xe6f\\x87E\\xf1\\xe0\\xdeqQ\\x15\\xedv\\xcb.\\x80\\x98\\xda\\x0e\\xe7>\\'\\x85\\xc2\\xc2\\xc0\\x0c\\x19P2+!2\\xcdt\\x1bh\\xfe\\xfc\\xe6f\\xd5?y\\xf4\\xe0[\\xdf\\xf9\\xde|q\\xf3\\xabO>Y\\xac\\xb7\\xab\\xf5\\x1a\\xb7\\xebr4\\x16]P\\xbb3\\xd5\\x00I\\xeb\\x0f\\xef\\x9f\\x1d\\xd5\\xd5\\xe9hh\\x82\\x93\\x8dC*\\x9dk[\\xf6\\xd6ZH\\x1abr\\xceC\\x14!\\x95X\\\\\\xebp\\xc2\\xa80\\xae\\xb7e\\xd1\\xf4\\xbd\\x8f\\x8c\\x01\\x89\\xaa\\xba\\xd1\\xc6\\x0b\\xaf\\xdb\\xfez\\xb3[l\\xc2\\xb2u\\xeb\\xce\\xad[\\xb7Z={t\\xe7t\\xf7\\xc1\\xe3\\x8aS\\x16A\\xd2\\xc2\\xa4\\xb5\\x8a]\\x1bY\\x14g\\x90@\\x00@\\x90I!\\x18%\\x12R\\x8c9\\xcd\\x97\\x8b\\xe2U\\xf1\\xe4\\x9dGhL3\\x9d\\xfd\\xe2\\xe3OW\\x9f|r5_\\x99\\x9e\\xd1\\x14Q\\xd61C\\xc8\\xac\\xdf=\\x9b\\x8d\\x95\\x99j\\xf4\\xab\\xdd6\\xf65W1\\xa7,r\\xf1\\xfe#\\xe8\\xd9-;[6\\x83Q\\x1ds\\xca\\xde\\x16\\xb6L\\xbab\\xb4\\xdb]\\xef9.\\x16\\x1b\\xad\\xec\\xc6g\\x11\\xb2\\xf50v\\xfd\\xd6\\xf7+\\x97\\xb6!zA\\xb4u\\x89V\\x9c\\xdbu\\xfd\\xd5|Y\\xb1\\xd3Y\\xcaa\\x83;L\\x92\\x13C\\x04\\xc9\"\\xc8\\x8c\\x02\\x80\\x99\\x15\\x08r\\xa1\\x94w}QX\\x90|\\xb5\\\\N7\\xed|\\xb1~\\xf4\\xf8\\x9do\\x8f\\x0e\\xeb\\xe9\\xf1\\xc7\\xcf\\xbexs}{\\xb3\\xd8\\x8a)&\\xb3\\xe3i3\\xd4\\xa7\\x85\\xd4$\\x05\\t*\\x8c\\x1e \"GEJ\\xad/\\xb7)%\\xf2\\xb9\\xaa\\x86\\xaa\\xac$E\\xab\\x90U\\x11\\xd1\\xb2*\\xd8\\x10\\x98A\"\\xe7\\x93\\xccw\\xce{?\\x1cR\\x9f%\\xe8B\\x0cG\\x05=\\xf7}\\x86(j0\\x1c\\x87\\x0c;\\xe7C\\xe8km\\x95.Sv\\x81\\x85\\x91\\x00\\x913\\n\\x10\\xbc\\x9d\\x12\\x81\\x00\\x94\\xc6\\xb6\\xdb\\x95\\x97\\xcc95M\\x93\\x00_^^\\xef|>\\x98\\x9d<\\xfd\\xe0\\x9b\\xdf\\xfc\\x83\\xef?{\\xf9\\xeaG\\x7f\\xf3w\\x9f\\xbf\\xbc\\xda\\xb5\\xb2X/\\xf5\\xc4f\\xc3\\x00\\xd6\\xda\\xd2\\xb07\\xed.,\\xb6mT\\xb0X\\xf9f<\\x1a\\x96\\xb5\\xef|\\xda\\xb4EU\\xea\\xbaB]\\x96\\x83\\x83\\x1e\\n\\x89n\\xd5\\xa56\\x93\\xf7\\xde\\xab\"\\x1ap\\xa4[\\xce+\\xcf\\xb7\\x9d\\xbbZ\\xef\\xae\\xb6}\\xc7\\xd6\\x18\\x03}\\xe8B\\x06m\\xb3\\xefC\\xe2\\x90\\xb8\\x8fI\\x80@i\\x06\\x16F\\x10\\x04\\x01Fb!!\\xb5\\xf5\\x9e\\xaa\\xca\\x96\\xe5\\xfc\\xe6\\xca0\\xb41u>\\xdd|\\xf6\\xbc\\xb9\\xdd\\xbc\\xf7\\xb5\\xe6\\xeb\\x8f><\\xb9\\xff\\xf4\\xec\\xde\\x07\\x1f?{\\xfe\\xf7?\\xff\\xe5\\xcf~\\xfe\\x8f\\xba\\xd2\\x99\\x9d\\x83\\x00,\\xb9\\x8fy\\xd5\\x86\\xf5\\xc6\\xab\\xc1\\xa0,\\x9b\\xc8&\\x9b\\xd26M\\xf2] \\xd2uS\\x0f\\xa6;\\x18\\xf4\\x1d;0\\xf3\\xed&\\xb0\\xday\\x96r(\\xcav\\x82K\\xbf\\xbb\\xdeu\\xd7\\x9bv\\xb1s;\\x9f\\x93QJ\\x17.\\xf4.\\xe6$\\xc0\\x82\\x1a\\x01\\xb4N,\\x99\\x01i?\\x8cP\\x8c\\x04(\\x8c:\\x93\\x06\"\\xe7C]\\x99b8\\xe4\\xc5\\xbc\\x8f\\xe9\\x93\\xcf\\xbfhc\\x02m]\\xc4O>\\xfb\\xc2\\xb39\\xbb\\xffx89\\xfe\\xa3?z\\xf4\\xfe\\xd7\\xbf\\xfbG/_k\\xe0\\xdeu\\x9d\\xc6\\xd4{\\xd8\\xb18\\xd4f8\\x99\\x1c\\x9d\\xae\\xbb\\xcd\\xd5\\x9b\\xdb\\x80\\xf8\\xfe\\x87\\xef\\xd7(/_\\xbf\\xb8]\\xacmP;\\x916*]\\xd6\\xd9T\\xc5\\xa0X\\xf41\\xa5\\xb4q\\xbb\\xae\\xdbm{\\xd7fQuSK\\xd9\\xee\\xbc\\x8f\\xd0\\x86|4\\x18\\'\\xc0\\xce%\\xe5B5l\\xcaZ\\x03m#gFd!\\x01bP\\x0c,\\x80\\t\\x10\\x85tY.\\xdbU\\x14v9[\\x82\\xe7/_\\t\\xe3d2\\xbbY.\\xfbD\\xcdxg\\xaa\\xe5\\xe5\\xbcc4\\xda\\x0c\\xac\\xad4\\xa4\\xa0\\xacN\\xac\\xd69\\xac\\x18h0\\x8a}Z\\xf5\\xc16c\\xbf\\xd9\\xce\\xfb\\xfe\\x8b\\xf9\\xedxv0\\xbew\\x1f7\\xbb.\\xa8\\xde#\\x95\\x8dg\\x0c\\x80\\xafo\\x16[\\x17\\xb6\\xdbu\\xd7\\xefb\\x0c\\xdb\\xb6[\\xb7]/$\\xa6>:;\\xbc?9\\x1e\\x8f\\xc7\\x14\\xfa\\xa1\\xf4\\x8c\\xda\\xd8\\x12I\\xef\\xb6}QUn\\xbd\\xea\\x02\\xb3&E$@\\xfb\\x01\\x9d\\x18!\\x8b\\xbb\\xcdv\\xd7nB\\xcc\\x83f\\xb8\\xdc\\xee\\x945UQ\\xef\\xba\\xae,K]\\xd8\\x97\\xaf_\\xadZ\\x7f\\xf7\\xe2\\x1dP0_^ZSh\\xb0\\x05\\x00+3\\xda\\xae\\x16K\\x90\\xd0:\\x8dec\\xca\\xac\\x0c\\x16v\\xe5]\\xf7\\xe29^_U\\x83\\xe1\\xa0\\xac\\x95\\x1d\\xef\"\\xf7\\xae\\xddt\\xfd|\\xbd[\\xb7m\\xe7]\\xd7\\xb5\\xbdks\\x8e\\xf3\\xc5b\\xb5\\xebU\\xd94\\xb3\\x83r4![\\xfa\\xc0\\x18\\x93\\x96\\xe4B\\x84\\x18zR1\\x8b\\x00h\\xad\\xb3w\\x99%K\\x12\\xce\\x89\\xc53\\x87\\xec%\\x84\\xe5j\\xbd]/6v7\\x1a\\xd4\\xc2l\\x94N!\\xb7;7\\x9d\\x1doW\\xcb.\\xb0\\x8b2\\x1c\\x1d\\xa0)z\\x97rY\\xeb\\x10\\x85\\x8a\\xc6\\x9c\\x9c\\xb7o\\xda\\x95\\xc4\\xeb\\xe5fZ+\\xaf\\xfa2\\xfa\\x9ey\\xe3\\xfb\\xddn\\x19\\x11\\x0fg\\'\\x17g\\x0f\\x0bc\\x16\\xab\\xf5&\\xc2j\\xd7.\\xdb]\\xebC\\x1f|\\xd7um\\xbb\\x8b\\xc9\\xb5\\xde\\x8bRE5h\\x9a\\x91\\xa9\\x06QT\\xf4\\x01r\\x0e\\x92{\\xef\\x94\\x88\\x0b^\\x04\\x01\\xa0(\\n\\xd9\\xb59\\xa3H\\x14\\xc9{$\\x87\\xc8Q\\xb2\\x8f\\xa1u}\\xd7\\xb69\\xc4\\xaa\\xb4T`\\x14\\x9f\\xb2_-n\\x9a\\xd1\\x94Pno^\"\\xc9\\xd1\\xe9=R\\xc5v\\xdd\\xea$\\xa6\\xa8\\xc6PM>\\xb9\\xba}~\\xd9\\xad\\x16\\xee\\xf1i\\xe9S\\xae\\nd\\x85L\\xa8tI\\xda\\x9a\\xaaA(nn\\xd7\\x9f\\xbdx\\xe9\\xd0:\\xce}Lm\\x8c;\\xe7:\\xd7\\xb9\\xe8\\xb7\\xebuUU\\x07\\xa3\\xf1pt\\xa8\\x8b\\x8a3\\x00\\xb0&\\nQX\\xd8\\xc7<\\xb2$\"\\xa4PD\\x94F\\xa5T\\x94\\x94S\\x06`R\\xc6\\x905d$\\xa6\\xa2\\xa8\\x8a\\xa2\\xf4]\\xef\\xbd7\\x9a@3\\x10Vu\\xe1v}\\neU\\xd6\\x861\\xfa\\xedb\\xfe\\xaa\\xa8\\x86\\xc6\\x18m\\xcb\\x89\\x1aL\\xfb\\x84\\xbf~q\\xf9\\xe9\\xcb\\x8d\\xa1\\xea\\xde\\xa96IJ\\x0b\\xd6\\xda\\x02\\xcb\\xf1tT\\x0e&\\x83bDI\\xbf\\xf8\\xfc\\xc5g_<\\x8fE\\x05\\xc6\\x04\\x91\\x9d\\x0f\\xad\\xeb\\x99\\x93\"\\x1c\\x8c\\x86\\xc3z\\xd04Cc\\x8cpf\\x89\\x88\\n\\x08\\x999J\\xf6\\xdeSYr\\x0e\\xa8\\x8a\\x14c\\x8c\\xb9(\\x8a\\x18%E`f@F\\xc2\\xfd\\x90D\\x91\\xae\\xcaAt\\xde9G\\xc2\\x90\\xe2\\xb0,\\x9b\\xa6\\xd1\\x83b\\xb3\\xbe)\\xaa\\xe6\\xec\\xfc>*\\xbd\\xde\\xddt\\xed\\xaa\\x19\\r\\xf5\\xae\\xe5\\xaa\\x81\\xde\\xa8\\xea\\xe0\\xa4\\xe9\\xabR\\xd5L\\x14c\\xca\\x19KR\\n\\xe0`2\\x9d\\xceN!\\x97i\\xc5\\xdd\\xba\\xdf\\xed:\\xe7c\\xd6\\xc6Kn}\\xf2\\xd9\\x97\\xb6(\\x06\\xc5\\x93\\x07OA\\x84c\\xf6\\x013\\x8b\\x02H1\\xba\\x14AqJ\\xa9m\\xdb\\xdc\\x18LIk\\x1bcH!\\x19m\\x15+D\\xc99g\\x86\\x0c\\x14\\x00S\\x16\"\\xaa\\x8a\\xa2#\\xd3\\xe7\\xde{\\x0f\\xc9kN\\xcd\\xa0\\x8a\\xc9Y\\x83(\\xe1\\xfa\\xfa\\xf9\\xa0\\x19\\x1f\\xce\\x8e:\\x9f\\x9e}\\xf2s=_l!j7\\xa5\\xa3\\xd3\\xfb\\x8e\\xb6\\x98(\\xfa\\\\\\x02(\\xa4\\xca\\x16\\xaca:\\x1a\\xd6\\xe5`\\xb7\\x08\\xa1\\xf5\\xbbM\\xcb\\x0c>\\xc5\\x98sD\\x89\\x89#gJQGd\\x84\\xd2X2H\\x98\\xba^R\\x8a\\x92\\x182k\\xa3D\\xa4\\xef\\xfb\\x94\\x1a\\xc5l\\x95&\\xc0\\xfd\\xdf\\xff\\x923\\t\\xc0~\\x9c\\x03!\\x89\\x8e\\x02$\\xb0\\x1f&\\xa0\\x80&`f\\xef]\\x0c=H\\x1e\\xd4ef\\x98/\\xaf\\xfa\\xbe=99\\xb4E!\\xec\\xf4\"\\xdb\\xc5\\xe5jy\\xdb\\xad:\\xdf\\xc6L\\x8c\\x99yx0V\\xe3\\xaa:\\x99 \\xc6fz\\x96X\\xdd.\\xae\\xb6W\\xdbW\\xd7\\x97\\x1d\\xc7\\x96\\x81I\\x816\\xa8\\x88\\x13\\xec\\xba\\xce\\xfb\\xfe\\xa3\\x8f\\xfe\\xee\\xfe\\x9d\\xbbg\\'\\xe7\\xa8L\\x16\\x17\\x93\\xd7\\xaa.\\xab2C\\xc8\\x0ec\\xe2\\x0c*\\x12CQ)\\xb3\\xae\\x04\\xf2f!\"\\xc8Y#\\x00Q\\x12D`\\x05\\x10s$f\\xe0$\"@\\x04\\x99]\\x08]\\xef\\xef\\x9c\\x9f\\xbe\\xbe|CDGG\\x87}\\x08\\xcf\\xbf\\xf8\\xcd\\xe1\\xf1\\xc97\\xbe\\xf6\\xae\\xbe\\xb5c\\xa7\\xa1\\xedCB\\xa9F\\xe5\\xfe\\xd5\\xf1R\\xe4\\xf5\\xb6\\x9b\\x90\\xaa\\n\\xf5\\xf3\\x1f\\xfd\\xfc\\xd1\\xdd\\xbb\\x19\\xb0\\xa5\\xd4\\xa1o\\x85=\\x16\\xc6\\xda\\x14\\xd9yWZk\\xeaA\\xdf\\xf7)\\xe1\\xc7\\x9f<\\x7f\\xf9fq\\xff\\xfe\\x83\\x83\\xe9\\xb1\\xf6q\\xd7v\\xb1k\\xc7u\\xc9\\x866]\\xb7J4,\\x9au\\x90,\\x8c\\xd9OK5\\xdf\\xed\\xa2\\xf7@:\\x8b\\xb8\\xe8\\x13\\xe5\\xb2\\xaa\\x9br\\xe0\\xfbn6;(\\n\\xdbw\\xbb$\\x80\\x02\\xafo\\xe7vP\\xdf}\\xf0h\\xb9\\\\^^_\\x8dFc@\\xbe\\xbdy3\\x9dN\\xf5\\xc7\\x8bmHq\\xb9\\xeb\\x16\\xdb\\xce\\t\\x9aA]5\\x93\\xa2(\\x9e\\xbd\\xbc\\x94\\xcf\\x9e\\xa7~w~p8\\x1a\\x1c\\xe8\\x14\"p\\x9f\\xfd\\x9b\\xf9F\\x8d\\'\\x07U]T\\x14\\xd2~t%1\\xa6\\xc5|5\\x9b\\xcdB\\x94\\x9f\\xfd\\xfd\\xcf\\x8b\\xa2\\xba\\xb8\\xb88=9\\xb7\\x8a\\xfa\\xf5\"\\xf9\\x10\\xfb\\xb8ua8\\x1a7\\x07\\xd3\\xa6m]\\xbc\\xd6\\x12\\x0b\\xce\\x1e\\x01\\x11\\x92\\x080Kv\\x11s\\x06\\x89\\xe9\\xad\\xecBD\\xb2\\x00\\x01\\x11\\xd1\\xcbWoH\\x99\\xf1\\xa8y\\xf8\\xf0\\x91\\x88l\\xb7\\x1b\\xc8\\x8c\\xcc\\xfa\\xdf\\xfd\\xf8\\xbfd\\x91\\xc8$\\xc6\\x94\\xcd\\xa8\\x04\\x86\\xce\\xa7\\x10_<\\x7f\\xee\\xb7\\xbb\\xb4]\\x1f|\\xe7\\x0fb\\xcc\\xae\\xedt\\x12CF\\xb2\\x04\\x9f\\x9csEQ(\\xa5\\xf7S\\x9f\\x94\\xd2\\xbb\\xef\\xbe;\\x9f\\xcfw\\xbb]Y\\x96\\xce\\xb9\\x8f>\\xfa\\xe8\\xec\\xec\\xcd\\xd7\\xde\\xff\\xe0\\xf8\\xf8\\x88\\'#\\xb7\\xdd1\\xc8z\\xb7\\xd5\\x06E\\xc4Z\\xbb\\xa7T\\xcb\\x94\\x88\"J\\xa1\\x082\\x93\\xb0RD\\xda\\x80\\xe5\\x10\\x82w(\"\\x80\\x80\\x88\\xcc\\xf9\\xd5\\xabW}\\x7fpzz\\\\X\\xeb\\x9c\\xedS\\x7f\\xbb\\\\\\xea\\xe9\\xc3\\x0b\\x17b\\xef\\xa3(]\\xd4Md\\xb8\\xbdY\\\\_^\\xe6.Z\\x91f4y\\xf8\\xf0qa\\xeb\\xab7\\xd75Q]\\x8f\\x0e\\x0ex\\x1e\\xd2f\\xb3)\\xcb\\xd2\\x18[\\x96%3{\\xefonn\\x94R\\xd6\\xda\\xfdx}4\\x1am\\xb7\\xdb\\x1f\\xfe\\xf0?\\x1f\\x1f\\xcc\\xee\\x9d\\x9d\\x9e\\x9f\\x1d\\xdbz\\x80\\x1a;\\x17\\x12\\xbf\\x1de+\\x04E \\x08\\x85\"\\xb1\\xca\\x8a\\x02mB\\xcc@\\xf4VU\\xf1\\xe5\\xb8[kM\\xa07\\x9b\\x95\\xf7>\\x84PX\\xbd\\x9f\\xc7m\\xb7[\\xbd!LZ;\\x96\\x902ow\\x9ce\\x17\\x03\\x1b\\x03\\x1a4\\xd1\\xe1\\xe4\\xe0\\xf8\\xe4,%\\x0e!\\x1b\\xc2\\xa2\\xaae\\xb5I\\xc2 H93F\\xca\\xda\\x9a\\xb2\\x1a\\x0c\\xb7\\xdb-\\x80\\x00\"j\\xa5\\x88D\\xc4w\\xbekwD\\xe4\\\\w\\xbb\\xbc=\\x18\\x8d\\x1e\\xde9\\x9bM\\x86\\x92s\\xe7\\xbcR\\xa8\\x94R)\\xa7\\xe4\\t\\x94\\x11\\xd0J\\x01\\x81\\xe7\\x04@\\xc0\\xb2\\x97\\xc8\\x88\\x88\\x081\\xf3\\xb6m\\x95\\xb6\\xc6\\x98\\xf5z\\xdd\\xb6\\xad\\xd6\\xba\\xa9\\x07J)\\xfd\\xc3\\x9f\\xfc\\xf4\\xe0\\xe0pzp\\xa8\\xb5\\x8d\\x99\\x99\\xc5\\x96uajG\\x1b\\xe9]=\\x18\\xa6\\x0c\\xab]W\\xd4#\\xe1<\\x1c\\x1dl?y\\x96Q\\xaa\\xaa6\\xc6\\xec\\'\\xbe\\xcd\\x00\\xb5\\xd6\\x8f\\x1e=\\x9a\\xcf\\xe7)q\\xd34\\xce\\xb9\\xc5b1\\x1a\\x8d>\\xfc\\xf0\\xc3v\\xb3}\\xf9\\xfc\\xc5\\xd5\\xa7\\xbf9\\x9c\\x8c\\xceN\\x0f\\xd1\\x18f^\\xae\\xd7ui\\x95F\\n\\x829\\x0bG$BQI\\xf2\\xc1d\\x94A\\xc7\\x18\\x95R\\x02YD\\x82\\xf3)%c\\xcc~\\xb4\\x9c\\x92/\\xcbRk\\xbd\\x07\\x89>;\\xbd\\x98L&\\xd3\\xd9\\xac\\xae\\x1aD\\xd5un}\\xbb\\xdc\\xae\\xd6F[\\xd62=:\\x8dB\\xb7\\xcb\\xf5\\xd9t\\x9a\\xba\\xbe\\x1eO\\x9b\\xd1$\\xf8n/(\\xe1\\x0c9\\xe5\\x0e\\xbb=\\xd3\\x1f\\x1e\\x1ej\\xad\\xe7\\xf3y\\x8c\\xf1\\xc1\\x83\\xfb\\xb3\\xd9L)\\xf3\\x8b\\x8f\\x7f\\xb9X-\\x9a\\xaa,\\x06\\x03]\\x94\\xbb\\xb6\\x87\\x14\\x04!r\\x16\\x11B!\\x14EB(Y\\x12f\\xb1Z\\x81\\xb6uU\\x94\\x85\\xa9J[\\xdab\\xbd^;\\xe7\\x8e\\x8f\\x8fC\\x08\\xf3\\xf9\\x1c\\x00\\x8e\\x0f\\x0f\\xf7\\xe2\\x90\\xc9d\\xa2k]\\xado\\xd7\\xcb\\xeb\\xf5p8<<<\\xd6\\xca\\xf8\\xd6\\xcf/o\\x9b\\xa2*\\xc8\\x1c\\x9d\\x9c\\x92-\\x16\\xbb\\xddh4r1BQ^<|\\xe0_|\\xb1X,\\x94RZ\\xd9}\\x1d\\xb6\\xdb\\xed\\xe3\\xc7\\x8f\\xd7\\xeb\\xb5\\xb5v2\\x99x\\xef///_\\xbe|Y\\xd6\\xd5x:Ee,\\xe1\\x9b\\xab\\xcb\\x7f\\xff\\x1f\\xfe\\x93\\x12\\xfe\\xfa\\xfb\\xef^\\xdc\\xb9\\xb3\\x98\\xdfdf\"\\xd2\\x9a\\x08\\x14\\x030\\x080^\\xbf\\xb9\\xd4\\x83a\\xd34{\\x9d\\x811\\xa6(\\x8a\\xae\\xebF\\xa3Q\\x08\\xa1m\\xdb\\x10B\\x8a\\x9c\\xb2;:<\\xf9\\xeew\\xbf\\x8b\\x7f\\xf0\\x07_\\xd7Z\\xbf~u\\x89J\\x01\\xc0p4\\xd9\\xac\\xd6\\xc6\\x14\\x12\\xd3w\\xbe\\xfd\\xad\\xa7\\x0f\\x1f\\xf7\\xdb\\xcd\\xfc\\xea\\xda\\x006\\x83\\x01h\\xd5\\x91d\\xa5^\\xbe|\\x19c\\\\\\xadV\\xcb\\xe5r0\\x18\\xcc\\xe7\\xf3\\x87\\x0f\\x1f2\\xf3z\\xbdVJ\\xf5}\\x1bc\\xbc\\xbd\\xbd\\xfd\\xf6\\xb7\\xbf\\xb3\\xed\\xdd\\xeb\\xd7\\x97\\xb3\\xf1\\xc8\"BN\\x9aS\\xf2\\xee\\x9dG\\x0f\\x0fF\\xa3\\x98|a\\xec\\xb6\\xdd\\xf5\\xa17\\xc6$\\xce\\xe5p\\xbar\\xb0s\\x11\\x00\\xca\\xb2\\x1c\\x8c\\x86\\x83\\xc1`\\xb5Z}\\xfe\\xf9\\xe7\\xce\\x85\\xedv\\xeb\\x9c\\xdb\\x8b@\\x8cQEQ\\x15\\x85\\xd1\\x1f<xzxx\\xf8W\\xeb\\xbf:\\x98\\x1d\\xbd\\xf7\\xde{\\x83\\xd1\\xf0\\xdf\\xfe\\xdb\\xff\\x97HU\\xa3\\xc1\\xc1\\xf8`:;(\\x8a\\xc2\\xf9\\xe8]\\xd7sN1\\xd9A\\xb3\\xebvEQ\\x1c\\x1f\\x1f?}\\xfa\\xf4\\xa7?\\xfd\\xe9/~\\xf1\\x8b\\x8b\\x8b\\x8b\\x0f>\\xf8\\xe0\\x9b\\xdf\\xfc\\xe6d2\\xf9\\xc1\\x0f~\\xf0\\xd7\\x7f\\xfd\\xc3\\xa2(f\\xb3\\xd9\\xdf~\\xf4\\xd3\\xd9\\xe1\\xb11f\\xb1Z\\xd5\\xd6\\xdc??{\\xff\\x9dw4\\xc8/\\xfe\\xe1\\xef\\xbd\\xf7\\x83\\xba\\xb2e\\xcd\\x84\\xa4\\x8c-\\x0b\\xdf\\xf6\\xab\\xd5\\xaa\\x9e\\x9d\\x82.\\xda\\xb6m\\xdbv/`,\\xcb\\xf2\\xddw\\xdf\\xfd\\x9b\\xbf\\xf9I\\x8cq/\\x84\\x8a12s\\xce\\x12\\xa3\\xd1?\\xfa\\xab\\xffr~~\\xfe\\xf2\\xd9\\xf3o\\x7f\\xfd\\xf7\\xff\\xf4\\xdf\\xfc\\xe9\\x9d\\xbbw?\\xfe\\x87_\\xfe\\xfa\\xd3O\\xae\\x17\\x97\\xaf_\\xbf\\x1e\\x8f\\xc7\\x88\\x18\\x11\\x13Q\\x02H\\x99\\x97\\x8bE\\xef\\xfdn\\xb7\\xbb]\\xac\\xee\\xdd\\xbb\\'\\xa8f\\xc7G\\xff\\xd7\\xff\\xf3\\x7f\\xff\\xf9\\x9f\\xff\\xf9\\xe5\\xe5\\xe5z\\xbd\\xfc\\xe1\\x8f~8=\\x9c1\\xf3\\xf9\\xf9\\xd9d\\xbeX\\xaev\\xc6\\x14\\x9b\\xd5\\x12R\\xd1\\xf7\\xbe\\x19\\x8d\\xdfy\\xfc\\xe8\\xfa\\xfa\\xfa\\xbf\\xfe\\xe8\\xc7_\\xfb\\xf0\\xfd{\\x8fgY\\xe1\\xcd\\xcd\\x8d\\xc4\\x04J\\x97u\\xe1\\xbd\\x1f6\\x13c\\xccv\\xbb\\x8d\\xce_mw\\xf5ptqq\\xf1\\xbd\\xef}\\xcf{\\xefC\\xdcKJ\\xf6\\x08\\x06\\x00\\x9d\\xb2\\xac\\xd6\\xdb\\xe9\\xc1\\xe1\\xb3g\\xcf\\xfe\\xe2/\\xfe\\xe2\\xe2\\xe2\\xa2m\\xdb\\x8b{\\xf7\\x95\\xd1gw\\xef\\xd8\\xaa\\x0c!\\x08\\xa1cv\\xce9\\xe7|\\x8cUU\\xf5}\\xbfZ\\xadF\\xa3\\xd1\\xbd{\\xf7~\\xff;\\xdf\\xfa\\xfe\\xf7\\xbf\\xff\\xe3\\x1f\\xff\\xf8\\xea\\xea\\xea\\xf6\\xf6\\xfa\\xc5\\x8b\\x17\\xd6\\xda\\xe1p\\xc8\\xccm\\xdb*\\xa4\\xcdj}q\\xef\\xde\\x1f\\xff/\\xff\\xeb\\xfb\\xef>\\xfd\\xc6\\xd7\\xbfv~z2\\x9b\\xcd\\\\\\xca\\'\\xc7\\x87\\xa6\\xaa\\xdb\\xeb\\xcb\\x9b\\xf5*\\t\\x13\\xd1h<eI\\xda\\xd69\\xf3p8\\x1c\\x8f\\xc7\\xcb\\xe5r\\xb1\\xde\\xcc\\xe7\\xf3\\xa6i\\xac\\xb5\\x03\\x81\\xaf\\x02H\\x89s\\xce\\xfaO\\xfe\\x8f\\xffm<\\x1e?y\\xf2\\xe4\\xfe\\xfd\\xfb{\\xe8\\x84\\xe0\\xe6\\xf3\\xf9\\xdf\\xfc\\xf4\\'{-]\\xef]\\xe2\\xcc\\x00Y$\\x8b\\xa4\\xc41\\xe6\\x94\\xf8\\xde\\xbd\\x8b\\xb3\\xb33km\\xd3\\x0c~\\xf0\\x83\\x1f\\xf4}\\xfb\\xc9\\'\\x9f\\x00\\xc0\\xef\\xfd\\xde\\xef\\xbd\\xf3\\xce\\x93\\x8f>\\xfah>\\x9f\\xff\\xd9\\x9f\\xfd\\xd9n\\xeb\\xfe\\xf6\\xc7\\x7f\\xfb\\xf4\\xe9\\xd3?\\xfe\\xe3?\\xfe\\xc6\\xd7>|\\xf2\\xe8q\\x88\\x0e\\x95\\xfe\\xf4\\xf3\\xe7\\xcf\\x9e}\\xfa\\x8f\\xbf\\xfe\\xcd\\xcd\\xed\\x15k\\xdb\\x0ck\\x11\\xb1\\xf5\\xe0`z\\x92\\xb3\\xc4\\xcd\\xee\\xe8\\xf0\\xf0\\xf7\\xbe\\xf5-\\xe7\\xdc\\xc7\\x1f\\xff\\xba\\xef\\xfb\\x9cX)e\\x8bBk\\xad\\x8d\\xd9\\xcbh\\x99\\x19\\xff\\xfa\\xc7?z\\xef\\xbd\\xf7\\xa6\\xe3\\xc9n\\xb7k\\x06\\x8d\\xeb{\\xc9\\xb1j\\x9a7/_\\xc6\\x18\\xbd\\x8f9g \\xd2Z\\x0bB\\xce9\\x85\\xbc\\xa7\\x9d\\x87\\x0f\\x1f\"\\xcab\\xb1\\x18\\x8e\\x06WWW\\xc6\\xa8\\xd1h\\xe4\\xbd\\xaf\\xeb:\\x04\\x8f\\x88\\x8b\\xc5\\xe2\\x0f\\xff\\xf0{$\\xfa\\xa7?\\xf9\\xbb\\xe3\\xa3\\xa3\\xa6i\\n\\xad\\x9a\\x83\\x03`\\x86\\x9cW\\xcb\\xe5\\xb3/\\x9e\\xf9\\xd0\\x93\\xa6\\xc9dR\\r\\x06.\\xf8AU/oW\\x92\\xa1\\xeb\\xdc`0\\xb8w\\xff\\xbe\\x88\\xcc\\xe7Kf\\xf61\\x19c\\x94\\xb1\\x88\\x08\\x88{\\x11gJ\\t[\\x11\\x02Xn\\x16\\xbewwON\\x11 x\\x87\\x02eY\\xe6\\x94\\xf6:U\\x84\\xbd\\x14\\x92\\x10\\xd1\\x16\\x8630gmT\\xbb\\xdb\\xf5}?\\x9e\\x0c\\x8d\\xb5\\x00\\xbc^\\xad\\x8a\\xc2\\x96U\\x05\\x00\\xc1\\xfb\\xf9\\xe2\\xe6\\xe4\\xf8,\\xf4\\xd1(\\xabl\\x01\\x009\\xc4=\\x7f{\\xef\\x89(q\\x1c\\x8cF{\\xd1\\tC\\xde\\xb4\\xbb\\xca\\x16%Y$\\x0b\\x08\\x90RJLDd4 \\xa4\\x08\\xda\\x00 \\xa4\\xb4\\x17\\x06B\\x12\\x881\\xe3F$\\x01\\x17@\\x04\\xb0\\xdc\\xdc\\xceF\\x13\\x05\\x94bP\\xf0V.HJ\\x81\\x10\\xe7\\x0c@\\xa4\\x10\\x04bdc\\xa9\\xef\\\\Q\\x18R\\xca\\xfb\\xae(K\\x00\\xdem\\xb7\\xcd\\xb0\\xe9\\xbb.\\xe7\\xdc\\x0c\\x87\\x00\\xdcw\\xae\\xd2\\x15h\\x1b\\xb6\\x9d1F\\x08s\\xce\\xa6*\\xb2\\x8f\\xaa0\\x00\\x00\\x08\\xbb\\xbe%\\x82\\xa2\\xac\\x04X\\x01`&\\x08)\\xc3^y\\xa9LU\\x00\\xc0n\\xdd\\xda\\xb2\\xb2\\x96\\x80\\x80\\x19\\x04\\x80\\xe8\\xad\\xc8\\xfa\\xff\\x03\\x1a\\xbb\\xd1\\x93\\xd4\\xda\\x0f^\\x00\\x00\\x00\\x00IEND\\xaeB`\\x82'"
      ]
     },
     "execution_count": 9,
     "metadata": {},
     "output_type": "execute_result"
    }
   ],
   "source": [
    "data[0].image #label and vector"
   ]
  },
  {
   "cell_type": "code",
   "execution_count": 10,
   "id": "00632e7c",
   "metadata": {},
   "outputs": [
    {
     "data": {
      "text/plain": [
       "0"
      ]
     },
     "execution_count": 10,
     "metadata": {},
     "output_type": "execute_result"
    }
   ],
   "source": [
    "data[0].label"
   ]
  },
  {
   "cell_type": "code",
   "execution_count": 11,
   "id": "aabb5eac",
   "metadata": {},
   "outputs": [
    {
     "data": {
      "text/plain": [
       "FixedSizeList(dim=512)"
      ]
     },
     "execution_count": 11,
     "metadata": {},
     "output_type": "execute_result"
    }
   ],
   "source": [
    "data[0].vector"
   ]
  },
  {
   "cell_type": "code",
   "execution_count": 12,
   "id": "46a0dc93",
   "metadata": {},
   "outputs": [],
   "source": [
    "table.add(data)"
   ]
  },
  {
   "cell_type": "code",
   "execution_count": 13,
   "id": "cf747ebc",
   "metadata": {},
   "outputs": [
    {
     "data": {
      "text/html": [
       "<div>\n",
       "<style scoped>\n",
       "    .dataframe tbody tr th:only-of-type {\n",
       "        vertical-align: middle;\n",
       "    }\n",
       "\n",
       "    .dataframe tbody tr th {\n",
       "        vertical-align: top;\n",
       "    }\n",
       "\n",
       "    .dataframe thead th {\n",
       "        text-align: right;\n",
       "    }\n",
       "</style>\n",
       "<table border=\"1\" class=\"dataframe\">\n",
       "  <thead>\n",
       "    <tr style=\"text-align: right;\">\n",
       "      <th></th>\n",
       "      <th>image</th>\n",
       "      <th>label</th>\n",
       "      <th>vector</th>\n",
       "    </tr>\n",
       "  </thead>\n",
       "  <tbody>\n",
       "    <tr>\n",
       "      <th>0</th>\n",
       "      <td>b'\\x89PNG\\r\\n\\x1a\\n\\x00\\x00\\x00\\rIHDR\\x00\\x00\\...</td>\n",
       "      <td>0</td>\n",
       "      <td>[-0.011423807, -0.3061476, -0.37537506, -0.296...</td>\n",
       "    </tr>\n",
       "    <tr>\n",
       "      <th>1</th>\n",
       "      <td>b'\\x89PNG\\r\\n\\x1a\\n\\x00\\x00\\x00\\rIHDR\\x00\\x00\\...</td>\n",
       "      <td>0</td>\n",
       "      <td>[-0.07958659, -0.3357408, -0.0336091, -0.09256...</td>\n",
       "    </tr>\n",
       "    <tr>\n",
       "      <th>2</th>\n",
       "      <td>b'\\x89PNG\\r\\n\\x1a\\n\\x00\\x00\\x00\\rIHDR\\x00\\x00\\...</td>\n",
       "      <td>0</td>\n",
       "      <td>[-0.04710618, -0.1349073, 0.030417293, -0.0621...</td>\n",
       "    </tr>\n",
       "    <tr>\n",
       "      <th>3</th>\n",
       "      <td>b'\\x89PNG\\r\\n\\x1a\\n\\x00\\x00\\x00\\rIHDR\\x00\\x00\\...</td>\n",
       "      <td>0</td>\n",
       "      <td>[-0.045542438, -0.38785446, -0.015280771, -0.0...</td>\n",
       "    </tr>\n",
       "    <tr>\n",
       "      <th>4</th>\n",
       "      <td>b'\\x89PNG\\r\\n\\x1a\\n\\x00\\x00\\x00\\rIHDR\\x00\\x00\\...</td>\n",
       "      <td>0</td>\n",
       "      <td>[0.10975242, -0.08612408, -0.3946844, -0.22630...</td>\n",
       "    </tr>\n",
       "  </tbody>\n",
       "</table>\n",
       "</div>"
      ],
      "text/plain": [
       "                                               image  label  \\\n",
       "0  b'\\x89PNG\\r\\n\\x1a\\n\\x00\\x00\\x00\\rIHDR\\x00\\x00\\...      0   \n",
       "1  b'\\x89PNG\\r\\n\\x1a\\n\\x00\\x00\\x00\\rIHDR\\x00\\x00\\...      0   \n",
       "2  b'\\x89PNG\\r\\n\\x1a\\n\\x00\\x00\\x00\\rIHDR\\x00\\x00\\...      0   \n",
       "3  b'\\x89PNG\\r\\n\\x1a\\n\\x00\\x00\\x00\\rIHDR\\x00\\x00\\...      0   \n",
       "4  b'\\x89PNG\\r\\n\\x1a\\n\\x00\\x00\\x00\\rIHDR\\x00\\x00\\...      0   \n",
       "\n",
       "                                              vector  \n",
       "0  [-0.011423807, -0.3061476, -0.37537506, -0.296...  \n",
       "1  [-0.07958659, -0.3357408, -0.0336091, -0.09256...  \n",
       "2  [-0.04710618, -0.1349073, 0.030417293, -0.0621...  \n",
       "3  [-0.045542438, -0.38785446, -0.015280771, -0.0...  \n",
       "4  [0.10975242, -0.08612408, -0.3946844, -0.22630...  "
      ]
     },
     "execution_count": 13,
     "metadata": {},
     "output_type": "execute_result"
    }
   ],
   "source": [
    "table.head().to_pandas()"
   ]
  },
  {
   "cell_type": "markdown",
   "id": "bfb70b75",
   "metadata": {},
   "source": [
    "## Encoding user queries\n",
    "\n",
    "We have image embeddings, but how do we generate the embeddings for the user query?\n",
    "Furthermore, how can we possibly have the same features between the image embeddings\n",
    "and text embeddings. This is where the power of CLIP comes in.\n",
    "\n",
    "Please write a function to turn user query text into an embedding\n",
    "in the same latent space as the images. \n",
    "\n",
    "**HINT** \n",
    "You can refer to the [CLIPModel documention](https://huggingface.co/docs/transformers/model_doc/clip#transformers.CLIPModel)"
   ]
  },
  {
   "cell_type": "code",
   "execution_count": 14,
   "id": "460a8aba",
   "metadata": {},
   "outputs": [],
   "source": [
    "from transformers import CLIPTokenizerFast\n",
    "\n",
    "MODEL_ID = \"openai/clip-vit-base-patch32\"\n",
    "model = CLIPModel.from_pretrained(MODEL_ID)\n",
    "tokenizer = CLIPTokenizerFast.from_pretrained(MODEL_ID)\n",
    "\n",
    "def embed_func(query):\n",
    "    inputs = tokenizer([query], padding=True, return_tensors=\"pt\")\n",
    "    \n",
    "    # generate the text embeddings\n",
    "    text_features = model.get_text_features(**inputs)\n",
    "    \n",
    "    return text_features.detach().numpy()[0]"
   ]
  },
  {
   "cell_type": "markdown",
   "id": "9487085e",
   "metadata": {},
   "source": [
    "## Core search function\n",
    "\n",
    "Now let's write the core search function `find_images`, that takes a text query as input, and returns a list of PIL images that's most similar to the query."
   ]
  },
  {
   "cell_type": "code",
   "execution_count": 15,
   "id": "4c712bcd",
   "metadata": {},
   "outputs": [],
   "source": [
    "def find_images(query):\n",
    "    \n",
    "    # Generate the embedding for the query\n",
    "    emb = embed_func(query) \n",
    "    \n",
    "    # Search for the closest 9 images\n",
    "    rs = table.search(emb).limit(9).to_pydantic(Image)\n",
    "    \n",
    "    # Return PIL instances for visualization\n",
    "    return [r.to_pil() for r in rs]"
   ]
  },
  {
   "cell_type": "code",
   "execution_count": 16,
   "id": "f8ad4f0b",
   "metadata": {},
   "outputs": [
    {
     "data": {
      "image/jpeg": "[encoded data removed]",
      "image/png": "[encoded data removed]",
      "text/plain": [
       "<PIL.PngImagePlugin.PngImageFile image mode=RGB size=64x64>"
      ]
     },
     "execution_count": 16,
     "metadata": {},
     "output_type": "execute_result"
    }
   ],
   "source": [
    "find_images(\"fish\")[0]"
   ]
  },
  {
   "cell_type": "markdown",
   "id": "17a32409",
   "metadata": {},
   "source": [
    "## Create an App\n",
    "\n",
    "Let's use gradio to create a small app to search through the images.\n",
    "The code below has been completed for you:\n",
    "1. Created a [text input](https://www.gradio.app/docs/textbox) where the user can type in a query\n",
    "2. Created a \"Submit\" [button](https://www.gradio.app/docs/button) that finds similar images to the input query and display the resulting images\n",
    "3. A [Gallery component](https://www.gradio.app/docs/gallery) that displays the images"
   ]
  },
  {
   "cell_type": "code",
   "execution_count": 18,
   "id": "944b115a",
   "metadata": {
    "scrolled": true
   },
   "outputs": [
    {
     "name": "stdout",
     "output_type": "stream",
     "text": [
      "Running on local URL:  http://0.0.0.0:7860\n",
      "\n",
      "To create a public link, set `share=True` in `launch()`.\n"
     ]
    },
    {
     "data": {
      "text/plain": []
     },
     "execution_count": 18,
     "metadata": {},
     "output_type": "execute_result"
    }
   ],
   "source": [
    "import gradio as gr\n",
    "\n",
    "\n",
    "with gr.Blocks() as demo:\n",
    "    with gr.Row():\n",
    "        vector_query = gr.Textbox(value=\"fish\", show_label=False)\n",
    "        b1 = gr.Button(\"Submit\")\n",
    "    with gr.Row():\n",
    "        gallery = gr.Gallery(\n",
    "                label=\"Found images\", show_label=False, elem_id=\"gallery\"\n",
    "            )#.style(columns=[3], rows=[3], object_fit=\"contain\", height=\"auto\")   \n",
    "        \n",
    "    b1.click(find_images, inputs=vector_query, outputs=gallery)\n",
    "    \n",
    "demo.launch(server_name=\"0.0.0.0\", inline=False)"
   ]
  },
  {
   "cell_type": "markdown",
   "id": "44564feb-7f5d-4a31-9811-7e78072d54b2",
   "metadata": {},
   "source": [
    "To view the interface, click on the **Links** button at the bottom of the workspace window.  Then click on **gradio**.  This will open a new browser window with the interface."
   ]
  },
  {
   "cell_type": "markdown",
   "id": "2d97f9ac",
   "metadata": {},
   "source": [
    "Now try a bunch of different queries and see the results.\n",
    "By default CLIP search results leave a lot of room for improvement. More advanced applications in this space can improve these results in a number ways like retraining the model with your own dataset, your own labels, and using image and text vectors to train the index. The details are however beyond the scope of this lesson."
   ]
  },
  {
   "cell_type": "markdown",
   "id": "5f6354ce",
   "metadata": {},
   "source": [
    "## Summary\n",
    "\n",
    "Congrats! \n",
    "\n",
    "Through this exercise, you learned how to use CLIP to generate image and text embeddings. You've mastered how to use vector databases to enable searching through images using natural language. And you even created a simple app to show off your work. \n",
    "\n",
    "Great job!"
   ]
  },
  {
   "cell_type": "code",
   "execution_count": null,
   "id": "bb884abe",
   "metadata": {},
   "outputs": [],
   "source": []
  }
 ],
 "metadata": {
  "kernelspec": {
   "display_name": "vector-db-env",
   "language": "python",
   "name": "vector-db-env"
  },
  "language_info": {
   "codemirror_mode": {
    "name": "ipython",
    "version": 3
   },
   "file_extension": ".py",
   "mimetype": "text/x-python",
   "name": "python",
   "nbconvert_exporter": "python",
   "pygments_lexer": "ipython3",
   "version": "3.11.0"
  }
 },
 "nbformat": 4,
 "nbformat_minor": 5
}
